{
 "cells": [
  {
   "cell_type": "markdown",
   "id": "fc2ffb2e",
   "metadata": {},
   "source": [
    "# Lab | Object Oriented Programming\n",
    "\n",
    "## Introduction\n",
    "\n",
    "In this lab you have to implement a Python class for a TV.\n",
    "\n",
    "## Constructor\n",
    "\n",
    "Crete a Python Tv class with a constructor and the following attributes:\n",
    "\n",
    "* .on (Boolean)\n",
    "* .volume (float in [0,100])\n",
    "* .active_channel (int in [1,10])\n",
    "* .input (str in [\"Anthena\", \"HDMI1\", \"HDMI2\", \"HDMI3\"])\n",
    "* .size (float in [42, 50, 55, 65, 75])\n",
    "\n",
    "## Methods\n",
    "\n",
    "* .switch_on()\n",
    "* .switch_off()\n",
    "* .set_volume(volume: int)\n",
    "* .change_channel(channel: int)\n",
    "* .set_input(value: str)\n",
    "\n",
    "## Submission\n",
    "\n",
    "Upon completion, add your jupyter notebook to git. Then commit git and push your branch to the remote.\n",
    "\n",
    "## Resources\n",
    "\n",
    "[Classes in Python Tutorials](https://www.youtube.com/playlist?list=PL-osiE80TeTsqhIuOqKhwlXsIBIdSeYtc)"
   ]
  },
  {
   "cell_type": "code",
   "execution_count": 25,
   "id": "fdc6ad63",
   "metadata": {},
   "outputs": [],
   "source": [
    "class Tv:\n",
    "    \n",
    "    def __init__(self):\n",
    "        self.on = False\n",
    "        self.volume = 30\n",
    "        self.active_channel = 1\n",
    "        self.input = 'Antenna'\n",
    "        self.size = 55.0\n",
    "        \n",
    "    \n",
    "    def switch_on(self):\n",
    "        self.on = True\n",
    "        \n",
    "    def switch_off(self):\n",
    "        self.on = False\n",
    "        \n",
    "    def set_volume(self, volume):\n",
    "        self.volume = volume if volume in range(100) else 30 \n",
    "        \n",
    "    def change_channel(self, channel):\n",
    "        self.active_channel = channel if channel in range(10) else 1\n",
    "        \n",
    "    def set_input(self, value):\n",
    "        self.input = value if value in [\"Antenna\",\"HDMI1\", \"HDMI2\", \"HDMI3\"] else \"Antenna\"\n",
    "        \n",
    "    def print_attributes(self):\n",
    "        print(self.on)\n",
    "        print(self.volume)\n",
    "        print(self.active_channel)\n",
    "        print(self.input)\n",
    "        print(self.size)\n",
    "        \n",
    "    \n",
    "        \n",
    "\n",
    "        \n",
    "        "
   ]
  },
  {
   "cell_type": "code",
   "execution_count": 26,
   "id": "29a9fa63",
   "metadata": {},
   "outputs": [
    {
     "name": "stdout",
     "output_type": "stream",
     "text": [
      "True\n",
      "30\n",
      "1\n",
      "Antenna\n",
      "55.0\n"
     ]
    }
   ],
   "source": [
    "tv = Tv()\n",
    "tv.switch_on()\n",
    "\n",
    "tv.print_attributes()"
   ]
  },
  {
   "cell_type": "code",
   "execution_count": null,
   "id": "b191c9a6",
   "metadata": {},
   "outputs": [],
   "source": []
  }
 ],
 "metadata": {
  "kernelspec": {
   "display_name": "Python 3 (ipykernel)",
   "language": "python",
   "name": "python3"
  },
  "language_info": {
   "codemirror_mode": {
    "name": "ipython",
    "version": 3
   },
   "file_extension": ".py",
   "mimetype": "text/x-python",
   "name": "python",
   "nbconvert_exporter": "python",
   "pygments_lexer": "ipython3",
   "version": "3.9.12"
  }
 },
 "nbformat": 4,
 "nbformat_minor": 5
}
